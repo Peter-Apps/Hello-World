{
  "nbformat": 4,
  "nbformat_minor": 0,
  "metadata": {
    "colab": {
      "private_outputs": true,
      "provenance": [],
      "authorship_tag": "ABX9TyM+M3RT/EnABbvqc70Chz9G",
      "include_colab_link": true
    },
    "kernelspec": {
      "name": "python3",
      "display_name": "Python 3"
    },
    "language_info": {
      "name": "python"
    }
  },
  "cells": [
    {
      "cell_type": "markdown",
      "metadata": {
        "id": "view-in-github",
        "colab_type": "text"
      },
      "source": [
        "<a href=\"https://colab.research.google.com/github/Peter-Apps/Hello-World/blob/master/Lifetime_of_1_Die.ipynb\" target=\"_parent\"><img src=\"https://colab.research.google.com/assets/colab-badge.svg\" alt=\"Open In Colab\"/></a>"
      ]
    },
    {
      "cell_type": "code",
      "execution_count": null,
      "metadata": {
        "id": "zVr52X_ZGfIj"
      },
      "outputs": [],
      "source": [
        "import numpy as np\n",
        "from matplotlib import pyplot as plt\n",
        "from scipy.optimize import curve_fit\n",
        "\n",
        "decay_value = 1\n",
        "num_sides = 6\n",
        "num_rolls = 50_000\n",
        "\n",
        "num_rolls_before_decay = []\n",
        "\n",
        "for _ in range(num_rolls):\n",
        "  count = 0\n",
        "  while True:\n",
        "    count += 1\n",
        "    roll = np.random.randint(1, num_sides + 1)\n",
        "    if roll == 1:\n",
        "      num_rolls_before_decay.append(count)\n",
        "      break\n",
        "\n",
        "def exponential(x, a, b, c, d):\n",
        "    return a*np.exp(b-c*x)+d\n",
        "\n",
        "\n",
        "# Create a histogram of the results\n",
        "bin_list = list(range(1,max(num_rolls_before_decay) + 2))\n",
        "bin_heights, bin_borders, _ = plt.hist(num_rolls_before_decay, bins = np.subtract(bin_list,0.5), color='lightblue', edgecolor = 'black' );\n",
        "\n",
        "# Curve Fit the results\n",
        "#x_interval_for_fit = np.linspace(bin_borders[0], bin_borders[-1], 10000)\n",
        "#plt.plot(x_interval_for_fit, exponential(x_interval_for_fit, *popt), label='fit')\n",
        "#plt.legend()\n",
        "\n",
        "\n",
        "plt.xlabel(\"# of rolls\")\n",
        "plt.ylabel(\"Count\")\n",
        "plt.show()"
      ]
    }
  ]
}